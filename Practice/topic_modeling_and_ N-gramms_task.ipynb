{
 "cells": [
  {
   "cell_type": "markdown",
   "metadata": {},
   "source": [
    "Given the same dataset,\n",
    "\n",
    "- extract the most syntactically weighted N-grams, omitting nonsense (‘казалось бы’, ‘возможно предположить’, etc). The main idea is to extract the most valuable data from the text.\n",
    "\n",
    "- Try different models for a topic extraction. Which one performs better? What metrics were used to evaluate the model?\n"
   ]
  },
  {
   "cell_type": "code",
   "execution_count": 1,
   "metadata": {
    "pycharm": {
     "name": "#%%\n"
    }
   },
   "outputs": [],
   "source": [
    "import pandas as pd\n",
    "import matplotlib.pyplot as plt\n",
    "import numpy as np\n",
    "import seaborn as sbn\n",
    "import re\n",
    "import multiprocessing as mp\n",
    "from string import punctuation\n",
    "import gensim"
   ]
  },
  {
   "cell_type": "markdown",
   "metadata": {},
   "source": [
    "Load data:"
   ]
  },
  {
   "cell_type": "code",
   "execution_count": 2,
   "metadata": {
    "pycharm": {
     "is_executing": true,
     "name": "#%%\n"
    }
   },
   "outputs": [
    {
     "name": "stderr",
     "output_type": "stream",
     "text": [
      "c:\\program files\\python38\\lib\\site-packages\\IPython\\core\\interactiveshell.py:3071: DtypeWarning: Columns (3) have mixed types.Specify dtype option on import or set low_memory=False.\n",
      "  has_raised = await self.run_ast_nodes(code_ast.body, cell_name,\n"
     ]
    },
    {
     "data": {
      "text/html": [
       "<div>\n",
       "<style scoped>\n",
       "    .dataframe tbody tr th:only-of-type {\n",
       "        vertical-align: middle;\n",
       "    }\n",
       "\n",
       "    .dataframe tbody tr th {\n",
       "        vertical-align: top;\n",
       "    }\n",
       "\n",
       "    .dataframe thead th {\n",
       "        text-align: right;\n",
       "    }\n",
       "</style>\n",
       "<table border=\"1\" class=\"dataframe\">\n",
       "  <thead>\n",
       "    <tr style=\"text-align: right;\">\n",
       "      <th></th>\n",
       "      <th>url</th>\n",
       "      <th>title</th>\n",
       "      <th>text</th>\n",
       "      <th>topic</th>\n",
       "      <th>tags</th>\n",
       "      <th>date</th>\n",
       "    </tr>\n",
       "  </thead>\n",
       "  <tbody>\n",
       "    <tr>\n",
       "      <th>0</th>\n",
       "      <td>https://lenta.ru/news/1914/09/16/hungarnn/</td>\n",
       "      <td>1914. Русские войска вступили в пределы Венгрии</td>\n",
       "      <td>Бои у Сопоцкина и Друскеник закончились отступ...</td>\n",
       "      <td>Библиотека</td>\n",
       "      <td>Первая мировая</td>\n",
       "      <td>1914/09/16</td>\n",
       "    </tr>\n",
       "    <tr>\n",
       "      <th>1</th>\n",
       "      <td>https://lenta.ru/news/1914/09/16/lermontov/</td>\n",
       "      <td>1914. Празднование столетия М.Ю. Лермонтова от...</td>\n",
       "      <td>Министерство народного просвещения, в виду про...</td>\n",
       "      <td>Библиотека</td>\n",
       "      <td>Первая мировая</td>\n",
       "      <td>1914/09/16</td>\n",
       "    </tr>\n",
       "    <tr>\n",
       "      <th>2</th>\n",
       "      <td>https://lenta.ru/news/1914/09/17/nesteroff/</td>\n",
       "      <td>1914. Das ist Nesteroff!</td>\n",
       "      <td>Штабс-капитан П. Н. Нестеров на днях, увидев в...</td>\n",
       "      <td>Библиотека</td>\n",
       "      <td>Первая мировая</td>\n",
       "      <td>1914/09/17</td>\n",
       "    </tr>\n",
       "    <tr>\n",
       "      <th>3</th>\n",
       "      <td>https://lenta.ru/news/1914/09/17/bulldogn/</td>\n",
       "      <td>1914. Бульдог-гонец под Льежем</td>\n",
       "      <td>Фотограф-корреспондент Daily Mirror рассказыва...</td>\n",
       "      <td>Библиотека</td>\n",
       "      <td>Первая мировая</td>\n",
       "      <td>1914/09/17</td>\n",
       "    </tr>\n",
       "    <tr>\n",
       "      <th>4</th>\n",
       "      <td>https://lenta.ru/news/1914/09/18/zver/</td>\n",
       "      <td>1914. Под Люблином пойман швабский зверь</td>\n",
       "      <td>Лица, приехавшие в Варшаву из Люблина, передаю...</td>\n",
       "      <td>Библиотека</td>\n",
       "      <td>Первая мировая</td>\n",
       "      <td>1914/09/18</td>\n",
       "    </tr>\n",
       "  </tbody>\n",
       "</table>\n",
       "</div>"
      ],
      "text/plain": [
       "                                           url  \\\n",
       "0   https://lenta.ru/news/1914/09/16/hungarnn/   \n",
       "1  https://lenta.ru/news/1914/09/16/lermontov/   \n",
       "2  https://lenta.ru/news/1914/09/17/nesteroff/   \n",
       "3   https://lenta.ru/news/1914/09/17/bulldogn/   \n",
       "4       https://lenta.ru/news/1914/09/18/zver/   \n",
       "\n",
       "                                               title  \\\n",
       "0  1914. Русские войска вступили в пределы Венгрии     \n",
       "1  1914. Празднование столетия М.Ю. Лермонтова от...   \n",
       "2                           1914. Das ist Nesteroff!   \n",
       "3                    1914. Бульдог-гонец под Льежем    \n",
       "4           1914. Под Люблином пойман швабский зверь   \n",
       "\n",
       "                                                text       topic  \\\n",
       "0  Бои у Сопоцкина и Друскеник закончились отступ...  Библиотека   \n",
       "1  Министерство народного просвещения, в виду про...  Библиотека   \n",
       "2  Штабс-капитан П. Н. Нестеров на днях, увидев в...  Библиотека   \n",
       "3  Фотограф-корреспондент Daily Mirror рассказыва...  Библиотека   \n",
       "4  Лица, приехавшие в Варшаву из Люблина, передаю...  Библиотека   \n",
       "\n",
       "             tags        date  \n",
       "0  Первая мировая  1914/09/16  \n",
       "1  Первая мировая  1914/09/16  \n",
       "2  Первая мировая  1914/09/17  \n",
       "3  Первая мировая  1914/09/17  \n",
       "4  Первая мировая  1914/09/18  "
      ]
     },
     "execution_count": 2,
     "metadata": {},
     "output_type": "execute_result"
    }
   ],
   "source": [
    "lenta_data = pd.read_csv('E:/PycharmProjects/data/lenta-ru-news.csv')\n",
    "lenta_data.head()"
   ]
  },
  {
   "cell_type": "markdown",
   "metadata": {},
   "source": [
    "Clean and preprocessing text data:"
   ]
  },
  {
   "cell_type": "code",
   "execution_count": 3,
   "metadata": {},
   "outputs": [
    {
     "name": "stderr",
     "output_type": "stream",
     "text": [
      "[nltk_data] Downloading package stopwords to\n",
      "[nltk_data]     C:\\Users\\Ситилинк\\AppData\\Roaming\\nltk_data...\n",
      "[nltk_data]   Package stopwords is already up-to-date!\n"
     ]
    },
    {
     "data": {
      "text/plain": [
       "True"
      ]
     },
     "execution_count": 3,
     "metadata": {},
     "output_type": "execute_result"
    }
   ],
   "source": [
    "import nltk\n",
    "nltk.download(\"stopwords\")"
   ]
  },
  {
   "cell_type": "code",
   "execution_count": 8,
   "metadata": {},
   "outputs": [],
   "source": [
    "from nltk.corpus import stopwords\n",
    "import re, string\n",
    "from nltk.stem.snowball import SnowballStemmer\n",
    "\n",
    "russian_stopwords = stopwords.words(\"russian\")\n",
    "regex = re.compile('[%s]' % re.escape(string.punctuation))\n",
    "stemmer = SnowballStemmer(\"russian\") \n",
    "\n",
    "def preprocessing(text):\n",
    "    text = regex.sub('', text)\n",
    "    text = [token for token in text.split() if token not in russian_stopwords]\n",
    "    text = [stemmer.stem(token) for token in text] \n",
    "    text = [token for token in text if token] \n",
    "    return ' '.join(text)"
   ]
  },
  {
   "cell_type": "markdown",
   "metadata": {},
   "source": [
    "Only 10 000 values from dataset, bcs original dataset is very big and process it take a lot of time:"
   ]
  },
  {
   "cell_type": "code",
   "execution_count": 9,
   "metadata": {},
   "outputs": [],
   "source": [
    "lenta_data['text'][:10000] = lenta_data['text'][:10000].apply(lambda x: preprocessing(x))"
   ]
  },
  {
   "cell_type": "code",
   "execution_count": 12,
   "metadata": {},
   "outputs": [
    {
     "data": {
      "text/html": [
       "<div>\n",
       "<style scoped>\n",
       "    .dataframe tbody tr th:only-of-type {\n",
       "        vertical-align: middle;\n",
       "    }\n",
       "\n",
       "    .dataframe tbody tr th {\n",
       "        vertical-align: top;\n",
       "    }\n",
       "\n",
       "    .dataframe thead th {\n",
       "        text-align: right;\n",
       "    }\n",
       "</style>\n",
       "<table border=\"1\" class=\"dataframe\">\n",
       "  <thead>\n",
       "    <tr style=\"text-align: right;\">\n",
       "      <th></th>\n",
       "      <th>text</th>\n",
       "    </tr>\n",
       "  </thead>\n",
       "  <tbody>\n",
       "    <tr>\n",
       "      <th>0</th>\n",
       "      <td>бо сопоцкин друскеник законч отступл германц н...</td>\n",
       "    </tr>\n",
       "    <tr>\n",
       "      <th>1</th>\n",
       "      <td>министерств народн просвещ вид происход чрезвы...</td>\n",
       "    </tr>\n",
       "    <tr>\n",
       "      <th>2</th>\n",
       "      <td>штабскап п н нестер днях увид район желт галиц...</td>\n",
       "    </tr>\n",
       "    <tr>\n",
       "      <th>3</th>\n",
       "      <td>фотографкорреспондент Daily Mirror рассказ слу...</td>\n",
       "    </tr>\n",
       "    <tr>\n",
       "      <th>4</th>\n",
       "      <td>лиц приех варш люблин туд доставл «швабск звер...</td>\n",
       "    </tr>\n",
       "    <tr>\n",
       "      <th>...</th>\n",
       "      <td>...</td>\n",
       "    </tr>\n",
       "    <tr>\n",
       "      <th>9995</th>\n",
       "      <td>глав мвд дагест приказ наряд милиц приграничн ...</td>\n",
       "    </tr>\n",
       "    <tr>\n",
       "      <th>9996</th>\n",
       "      <td>представител кремл ведут активн диалог губерна...</td>\n",
       "    </tr>\n",
       "    <tr>\n",
       "      <th>9997</th>\n",
       "      <td>москв 20 июл открыв фестива планет клоунад смо...</td>\n",
       "    </tr>\n",
       "    <tr>\n",
       "      <th>9998</th>\n",
       "      <td>чист американск получ фин уимблдонск теннисн т...</td>\n",
       "    </tr>\n",
       "    <tr>\n",
       "      <th>9999</th>\n",
       "      <td>перв российск клуб стартов сезон 20002001 год ...</td>\n",
       "    </tr>\n",
       "  </tbody>\n",
       "</table>\n",
       "<p>10000 rows × 1 columns</p>\n",
       "</div>"
      ],
      "text/plain": [
       "                                                   text\n",
       "0     бо сопоцкин друскеник законч отступл германц н...\n",
       "1     министерств народн просвещ вид происход чрезвы...\n",
       "2     штабскап п н нестер днях увид район желт галиц...\n",
       "3     фотографкорреспондент Daily Mirror рассказ слу...\n",
       "4     лиц приех варш люблин туд доставл «швабск звер...\n",
       "...                                                 ...\n",
       "9995  глав мвд дагест приказ наряд милиц приграничн ...\n",
       "9996  представител кремл ведут активн диалог губерна...\n",
       "9997  москв 20 июл открыв фестива планет клоунад смо...\n",
       "9998  чист американск получ фин уимблдонск теннисн т...\n",
       "9999  перв российск клуб стартов сезон 20002001 год ...\n",
       "\n",
       "[10000 rows x 1 columns]"
      ]
     },
     "execution_count": 12,
     "metadata": {},
     "output_type": "execute_result"
    }
   ],
   "source": [
    "preprocessing_data = pd.DataFrame({'text': lenta_data['text'][:10000]})\n",
    "preprocessing_data"
   ]
  },
  {
   "cell_type": "markdown",
   "metadata": {},
   "source": [
    "Create the bigrams and trigrams, using gensim:"
   ]
  },
  {
   "cell_type": "code",
   "execution_count": 16,
   "metadata": {},
   "outputs": [],
   "source": [
    "text = []\n",
    "for index, row in preprocessing_data.iterrows():\n",
    "        text.append(row['text'].split())\n",
    "\n",
    "from gensim.models import Phrases\n",
    "bigram = Phrases(text) \n",
    "trigram = Phrases(bigram[text])\n",
    "\n",
    "for idx in range(len(text)):\n",
    "    for token in bigram[text[idx]]:\n",
    "        if '_' in token:\n",
    "            text[idx].append(token)\n",
    "    for token in trigram[text[idx]]:\n",
    "        if '_' in token:\n",
    "            text[idx].append(token)"
   ]
  },
  {
   "cell_type": "markdown",
   "metadata": {},
   "source": [
    "Create the bigrams, using nltk:"
   ]
  },
  {
   "cell_type": "code",
   "execution_count": 22,
   "metadata": {},
   "outputs": [
    {
     "data": {
      "text/plain": [
       "([(('лиш', 'птиц'), 4),\n",
       "  (('нестер', 'погиб'), 2),\n",
       "  (('сентябр', '1914'), 2),\n",
       "  (('1914', 'год'), 2),\n",
       "  (('безбрежн', 'неб'), 2)],\n",
       " [(('фотографкорреспондент', 'Daily'), 1),\n",
       "  (('Daily', 'Mirror'), 1),\n",
       "  (('Mirror', 'рассказ'), 1),\n",
       "  (('рассказ', 'случ'), 1),\n",
       "  (('случ', 'котор'), 1)])"
      ]
     },
     "execution_count": 22,
     "metadata": {},
     "output_type": "execute_result"
    }
   ],
   "source": [
    "texts = []\n",
    "for index, row in preprocessing_data.iterrows():\n",
    "        texts.append(row['text'].split())\n",
    "        \n",
    "from nltk.util import ngrams\n",
    "import  collections\n",
    "\n",
    "bigrams = [ngrams(text, 2) for text in texts]\n",
    "bigram_freq = [collections.Counter(bigram) for bigram in bigrams]\n",
    "# look at the most popular bigrams in the third and fourth text\n",
    "bigram_freq[2].most_common(5), bigram_freq[3].most_common(5)"
   ]
  },
  {
   "cell_type": "markdown",
   "metadata": {},
   "source": [
    "Create LDA-model"
   ]
  },
  {
   "cell_type": "code",
   "execution_count": 23,
   "metadata": {},
   "outputs": [
    {
     "name": "stdout",
     "output_type": "stream",
     "text": [
      "Количество уникальных токенов: 7792\n",
      "Количество документов: 10000\n"
     ]
    }
   ],
   "source": [
    "from gensim.corpora.dictionary import Dictionary\n",
    "from numpy import array\n",
    "\n",
    "dictionary = Dictionary(text)\n",
    "dictionary.filter_extremes(no_below=10, no_above=0.1)\n",
    "\n",
    "corpus = [dictionary.doc2bow(doc) for doc in text]\n",
    "print('Количество уникальных токенов: %d' % len(dictionary))\n",
    "print('Количество документов: %d' % len(corpus))"
   ]
  },
  {
   "cell_type": "code",
   "execution_count": 25,
   "metadata": {
    "scrolled": false
   },
   "outputs": [
    {
     "data": {
      "text/plain": [
       "[(0,\n",
       "  '0.004*\"боевик\" + 0.003*\"войск\" + 0.003*\"северн\" + 0.003*\"группировк\" + 0.003*\"грозн\" + 0.003*\"объедин\" + 0.003*\"заявл\" + 0.003*\"чеченск\" + 0.002*\"республик\" + 0.002*\"путин\"'),\n",
       " (1,\n",
       "  '0.004*\"цен\" + 0.004*\"нефт\" + 0.003*\"боевик\" + 0.003*\"международн\" + 0.002*\"обвин\" + 0.002*\"жител\" + 0.002*\"чеченск\" + 0.002*\"рубл\" + 0.002*\"вооруж\" + 0.002*\"банк\"'),\n",
       " (2,\n",
       "  '0.006*\"процент\" + 0.003*\"боевик\" + 0.003*\"втор\" + 0.003*\"грозн\" + 0.003*\"войск\" + 0.002*\"официальн\" + 0.002*\"област\" + 0.002*\"акц\" + 0.002*\"территор\" + 0.002*\"выбор\"'),\n",
       " (3,\n",
       "  '0.004*\"выбор\" + 0.003*\"путин\" + 0.003*\"кандидат\" + 0.003*\"банк\" + 0.003*\"интернет\" + 0.003*\"встреч\" + 0.003*\"депутат\" + 0.003*\"бывш\" + 0.002*\"сист\" + 0.002*\"закон\"'),\n",
       " (4,\n",
       "  '0.003*\"боевик\" + 0.003*\"взрыв\" + 0.003*\"председател\" + 0.003*\"банк\" + 0.003*\"операц\" + 0.003*\"процент\" + 0.003*\"област\" + 0.003*\"путин\" + 0.003*\"выбор\" + 0.002*\"депутат\"'),\n",
       " (5,\n",
       "  '0.006*\"сайт\" + 0.003*\"интернет\" + 0.003*\"мир\" + 0.003*\"акц\" + 0.003*\"выбор\" + 0.002*\"налог\" + 0.002*\"американск\" + 0.002*\"процент\" + 0.002*\"организац\" + 0.002*\"област\"'),\n",
       " (6,\n",
       "  '0.004*\"процент\" + 0.003*\"сист\" + 0.003*\"выбор\" + 0.003*\"путин\" + 0.003*\"боевик\" + 0.003*\"пользовател\" + 0.002*\"обнаруж\" + 0.002*\"источник\" + 0.002*\"международн\" + 0.002*\"встреч\"'),\n",
       " (7,\n",
       "  '0.006*\"рубл\" + 0.003*\"путин\" + 0.003*\"мир\" + 0.003*\"закон\" + 0.003*\"встреч\" + 0.002*\"лиш\" + 0.002*\"программ\" + 0.002*\"миллиард\" + 0.002*\"област\" + 0.002*\"безопасн\"'),\n",
       " (8,\n",
       "  '0.003*\"закон\" + 0.003*\"госдум\" + 0.003*\"самолет\" + 0.003*\"министерств\" + 0.003*\"путин\" + 0.003*\"выбор\" + 0.002*\"центр\" + 0.002*\"депутат\" + 0.002*\"лидер\" + 0.002*\"республик\"'),\n",
       " (9,\n",
       "  '0.004*\"американск\" + 0.003*\"закон\" + 0.003*\"обвин\" + 0.003*\"процент\" + 0.003*\"совет\" + 0.002*\"рубл\" + 0.002*\"программ\" + 0.002*\"2000\" + 0.002*\"член\" + 0.002*\"интернет\"')]"
      ]
     },
     "execution_count": 25,
     "metadata": {},
     "output_type": "execute_result"
    }
   ],
   "source": [
    "from gensim.models.ldamulticore import LdaMulticore\n",
    "\n",
    "model = LdaMulticore(corpus=corpus,id2word = dictionary, num_topics = 10)\n",
    "model.show_topics()"
   ]
  },
  {
   "cell_type": "markdown",
   "metadata": {},
   "source": [
    "We need to define the optimal numbers of topics:"
   ]
  },
  {
   "cell_type": "code",
   "execution_count": null,
   "metadata": {},
   "outputs": [],
   "source": [
    "from gensim.models.coherencemodel import CoherenceModel\n",
    "\n",
    "def calc_coherence_values(dictionary, corpus, texts, limit, start = 2, step = 2):\n",
    "    coherence_values = []\n",
    "    model_list = []\n",
    "    for num_topics in range(start, limit, step):\n",
    "        model = LdaMulticore(corpus=corpus,id2word = dictionary, num_topics = num_topics)\n",
    "        model_list.append(model)\n",
    "        coherencemodel = CoherenceModel(model = model, texts = texts, dictionary = dictionary, coherence = 'c_v')\n",
    "        coherence_values.append(coherencemodel.get_coherence())\n",
    "    return model_list, coherence_values\n",
    "\n",
    "\n",
    "model_list, coherence_values = calc_coherence_values(dictionary = dictionary, corpus=corpus, texts=text, start = 2, limit = 50, step = 2)"
   ]
  },
  {
   "cell_type": "code",
   "execution_count": 39,
   "metadata": {},
   "outputs": [
    {
     "data": {
      "image/png": "[encoded data removed]",
      "text/plain": [
       "<Figure size 432x288 with 1 Axes>"
      ]
     },
     "metadata": {
      "needs_background": "light"
     },
     "output_type": "display_data"
    }
   ],
   "source": [
    "limit, start, step = 50, 2, 2\n",
    "x = range(start, limit, step)\n",
    "plt.plot(x, coherence_values)\n",
    "plt.xlabel(\"Количество тем\")\n",
    "plt.ylabel(\"Согласованность\")\n",
    "plt.legend((\"coherence_values\"), loc='best')\n",
    "plt.show()"
   ]
  },
  {
   "cell_type": "markdown",
   "metadata": {},
   "source": [
    "The best coherence - for ~14 topics.\n",
    "\n",
    "Now, save  model:"
   ]
  },
  {
   "cell_type": "code",
   "execution_count": 40,
   "metadata": {},
   "outputs": [
    {
     "ename": "IndexError",
     "evalue": "list index out of range",
     "output_type": "error",
     "traceback": [
      "\u001B[1;31m---------------------------------------------------------------------------\u001B[0m",
      "\u001B[1;31mIndexError\u001B[0m                                Traceback (most recent call last)",
      "\u001B[1;32m<ipython-input-40-170c3119cbe8>\u001B[0m in \u001B[0;36m<module>\u001B[1;34m\u001B[0m\n\u001B[1;32m----> 1\u001B[1;33m \u001B[0mmodel_list\u001B[0m\u001B[1;33m[\u001B[0m\u001B[1;36m12\u001B[0m\u001B[1;33m]\u001B[0m\u001B[1;33m.\u001B[0m\u001B[0msave\u001B[0m\u001B[1;33m(\u001B[0m\u001B[1;34m'model/best_model.lda'\u001B[0m\u001B[1;33m)\u001B[0m\u001B[1;33m\u001B[0m\u001B[1;33m\u001B[0m\u001B[0m\n\u001B[0m\u001B[0;32m      2\u001B[0m \u001B[1;33m\u001B[0m\u001B[0m\n\u001B[0;32m      3\u001B[0m \u001B[1;32mfrom\u001B[0m \u001B[0mgensim\u001B[0m \u001B[1;32mimport\u001B[0m \u001B[0mcorpora\u001B[0m\u001B[1;33m\u001B[0m\u001B[1;33m\u001B[0m\u001B[0m\n\u001B[0;32m      4\u001B[0m \u001B[1;33m\u001B[0m\u001B[0m\n\u001B[0;32m      5\u001B[0m \u001B[0mcorpora\u001B[0m\u001B[1;33m.\u001B[0m\u001B[0mDictionary\u001B[0m\u001B[1;33m.\u001B[0m\u001B[0msave\u001B[0m\u001B[1;33m(\u001B[0m\u001B[0mdictionary\u001B[0m\u001B[1;33m,\u001B[0m \u001B[1;34m\"model/dictionary.dict\"\u001B[0m\u001B[1;33m)\u001B[0m\u001B[1;33m\u001B[0m\u001B[1;33m\u001B[0m\u001B[0m\n",
      "\u001B[1;31mIndexError\u001B[0m: list index out of range"
     ]
    }
   ],
   "source": [
    "model_list[12].save('model/best_model.lda')\n",
    "\n",
    "from gensim import corpora\n",
    "\n",
    "corpora.Dictionary.save(dictionary, \"model/dictionary.dict\")\n",
    "corpora.BleiCorpus.save_corpus(fname=\"model/corpus.lda-c\",corpus= corpus)\n",
    "bigram.save('./model/bigram.phs')\n",
    "trigram.save('./model/trigram.phs')"
   ]
  },
  {
   "cell_type": "code",
   "execution_count": null,
   "metadata": {},
   "outputs": [],
   "source": []
  }
 ],
 "metadata": {
  "kernelspec": {
   "display_name": "Python 3",
   "language": "python",
   "name": "python3"
  },
  "language_info": {
   "codemirror_mode": {
    "name": "ipython",
    "version": 3
   },
   "file_extension": ".py",
   "mimetype": "text/x-python",
   "name": "python",
   "nbconvert_exporter": "python",
   "pygments_lexer": "ipython3",
   "version": "3.8.1"
  }
 },
 "nbformat": 4,
 "nbformat_minor": 1
}